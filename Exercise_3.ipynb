{
 "cells": [
  {
   "cell_type": "markdown",
   "metadata": {},
   "source": [
    "**Gather more information about unit testing and profiling modules in python.**"
   ]
  },
  {
   "cell_type": "markdown",
   "metadata": {},
   "source": [
    "* **Unit testing**"
   ]
  },
  {
   "cell_type": "markdown",
   "metadata": {},
   "source": [
    "Unit testing is a software testing method by which individual units of source code are put under various tests to determine whether they are fit for use (Source). It determines and ascertains the quality of your code.\n",
    "\n",
    "Generally, when the development process is complete, the developer codes criteria, or the results that are known to be potentially practical and useful, into the test script to verify a particular unit's correctness.\n",
    "\n",
    "The developers are expected to write automated test scripts, which ensures that each and every section or a unit meets its design and behaves as expected.\n",
    "\n",
    "Though writing manual tests for your code is definitely a tedious and time-consuming task, Python's built-in unit testing framework has made life a lot easier.\n",
    "\n",
    "The unit test framework in Python is called unittest, which comes packaged with Python.\n",
    "\n",
    "Unit testing makes your code future proof since you anticipate the cases where your code could potentially fail or produce a bug. Though you cannot predict all of the cases, you still address most of them.\n",
    "\n",
    "*A unit could be bucketed into various categories:*\n",
    "* An entire module,\n",
    "* An individual function,\n",
    "* A complete interface like a class or a method.\n",
    "\n",
    "The best ways to write unit tests for code is to first start with a smallest testable unit code could possibly have, then move on to other units and see how that smallest unit interacts with other units, this way build up a comprehensive unit test for your applications.\n",
    "\n",
    "Python's unit testing framework was inspired by java's JUnit and has similar features as major unit testing frameworks in other languages. \n",
    "\n",
    "*Python's unit testing framework offers various features like.*\n",
    "* Test automation\n",
    "* Sharing of setup and shutdown code for tests\n",
    "* Aggregating tests into collections\n",
    "* Independence of the tests from the reporting framework"
   ]
  },
  {
   "cell_type": "markdown",
   "metadata": {},
   "source": [
    "* **Profiling Module**"
   ]
  },
  {
   "cell_type": "markdown",
   "metadata": {},
   "source": [
    "cProfile and profile provide deterministic profiling of Python programs. A profile is a set of statistics that describes how often and for how long various parts of the program executed. These statistics can be formatted into reports via the pstats module.\n",
    "\n",
    "* The Python standard library provides two different implementations of the same profiling interface:\n",
    "* 1. cProfile is recommended for most users; it’s a C extension with reasonable overhead that makes it suitable for profiling long-running programs. Based on lsprof, contributed by Brett Rosen and Ted Czotter.\n",
    "* 2. profile, a pure Python module whose interface is imitated by cProfile, but which adds significant overhead to profiled programs. If you’re trying to extend the profiler in some way, the task might be easier with this module. Originally designed and written by Jim Roskind."
   ]
  },
  {
   "cell_type": "code",
   "execution_count": null,
   "metadata": {},
   "outputs": [],
   "source": []
  }
 ],
 "metadata": {
  "kernelspec": {
   "display_name": "Python 3",
   "language": "python",
   "name": "python3"
  },
  "language_info": {
   "codemirror_mode": {
    "name": "ipython",
    "version": 3
   },
   "file_extension": ".py",
   "mimetype": "text/x-python",
   "name": "python",
   "nbconvert_exporter": "python",
   "pygments_lexer": "ipython3",
   "version": "3.8.3"
  }
 },
 "nbformat": 4,
 "nbformat_minor": 4
}
