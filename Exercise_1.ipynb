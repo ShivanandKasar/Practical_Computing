{
 "cells": [
  {
   "cell_type": "markdown",
   "metadata": {},
   "source": [
    "**Write a simple, short program to calculate and print area of one of the biggest faces and volume of a rectangular cuboid with the dimensions\n",
    "given below:\n",
    "Length (l) = 30cm\n",
    "Breadth (b) = 20cm\n",
    "Height (h) = 15cm**"
   ]
  },
  {
   "cell_type": "code",
   "execution_count": 1,
   "metadata": {},
   "outputs": [],
   "source": [
    "l = 30\n",
    "b = 20\n",
    "h = 15"
   ]
  },
  {
   "cell_type": "code",
   "execution_count": 2,
   "metadata": {},
   "outputs": [
    {
     "name": "stdout",
     "output_type": "stream",
     "text": [
      "SA_of_biggest_faces =  1200\n"
     ]
    }
   ],
   "source": [
    "# Area of the biggest face \n",
    "# We have (l,b,h)=(30,20,15)\n",
    "# Therefore sides having length 30 and 20 (length & Width) makes biggest face\n",
    "\n",
    "SA = 2*(l * b) # two surfaces having a biggest face of cubide having length 30 and 20 respectively\n",
    "\n",
    "print(\"SA_of_biggest_faces = \", SA)\n"
   ]
  },
  {
   "cell_type": "code",
   "execution_count": 3,
   "metadata": {},
   "outputs": [
    {
     "name": "stdout",
     "output_type": "stream",
     "text": [
      "Volume of the cubide =  9000\n"
     ]
    }
   ],
   "source": [
    "# Calculate the Volume\n",
    "Volume = l * b * h\n",
    "\n",
    "print(\"Volume of the cubide = \", Volume)"
   ]
  },
  {
   "cell_type": "code",
   "execution_count": null,
   "metadata": {},
   "outputs": [],
   "source": []
  }
 ],
 "metadata": {
  "kernelspec": {
   "display_name": "Python 3",
   "language": "python",
   "name": "python3"
  },
  "language_info": {
   "codemirror_mode": {
    "name": "ipython",
    "version": 3
   },
   "file_extension": ".py",
   "mimetype": "text/x-python",
   "name": "python",
   "nbconvert_exporter": "python",
   "pygments_lexer": "ipython3",
   "version": "3.8.3"
  }
 },
 "nbformat": 4,
 "nbformat_minor": 4
}
